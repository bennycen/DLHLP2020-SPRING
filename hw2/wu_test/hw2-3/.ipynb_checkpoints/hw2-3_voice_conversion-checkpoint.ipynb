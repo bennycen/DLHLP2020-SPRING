{
 "cells": [
  {
   "cell_type": "code",
   "execution_count": null,
   "metadata": {},
   "outputs": [],
   "source": []
  },
  {
   "cell_type": "code",
   "execution_count": null,
   "metadata": {},
   "outputs": [],
   "source": []
  },
  {
   "cell_type": "code",
   "execution_count": null,
   "metadata": {},
   "outputs": [],
   "source": []
  },
  {
   "cell_type": "markdown",
   "metadata": {},
   "source": [
    "# Test"
   ]
  },
  {
   "cell_type": "code",
   "execution_count": 1,
   "metadata": {},
   "outputs": [],
   "source": [
    "\n",
    "from model import cc, CVAE\n",
    "from preprocess.tacotron.norm_utils import spectrogram2wav, get_spectrograms\n",
    "\n",
    "import warnings, torch\n",
    "import numpy as np\n",
    "from scipy.io.wavfile import write\n",
    "\n",
    "warnings.filterwarnings('ignore')\n"
   ]
  },
  {
   "cell_type": "code",
   "execution_count": 2,
   "metadata": {},
   "outputs": [
    {
     "ename": "RuntimeError",
     "evalue": "Error(s) in loading state_dict for CVAE:\n\tsize mismatch for encoder.conv1s.0.weight: copying a param with shape torch.Size([256, 513, 1]) from checkpoint, the shape in current model is torch.Size([150, 513, 1]).\n\tsize mismatch for encoder.conv1s.0.bias: copying a param with shape torch.Size([256]) from checkpoint, the shape in current model is torch.Size([150]).\n\tsize mismatch for encoder.conv1s.1.weight: copying a param with shape torch.Size([256, 513, 2]) from checkpoint, the shape in current model is torch.Size([150, 513, 2]).\n\tsize mismatch for encoder.conv1s.1.bias: copying a param with shape torch.Size([256]) from checkpoint, the shape in current model is torch.Size([150]).\n\tsize mismatch for encoder.conv1s.2.weight: copying a param with shape torch.Size([256, 513, 3]) from checkpoint, the shape in current model is torch.Size([150, 513, 3]).\n\tsize mismatch for encoder.conv1s.2.bias: copying a param with shape torch.Size([256]) from checkpoint, the shape in current model is torch.Size([150]).\n\tsize mismatch for encoder.conv1s.3.weight: copying a param with shape torch.Size([256, 513, 4]) from checkpoint, the shape in current model is torch.Size([150, 513, 4]).\n\tsize mismatch for encoder.conv1s.3.bias: copying a param with shape torch.Size([256]) from checkpoint, the shape in current model is torch.Size([150]).\n\tsize mismatch for encoder.conv1s.4.weight: copying a param with shape torch.Size([256, 513, 5]) from checkpoint, the shape in current model is torch.Size([150, 513, 5]).\n\tsize mismatch for encoder.conv1s.4.bias: copying a param with shape torch.Size([256]) from checkpoint, the shape in current model is torch.Size([150]).\n\tsize mismatch for encoder.conv1s.5.weight: copying a param with shape torch.Size([256, 513, 6]) from checkpoint, the shape in current model is torch.Size([150, 513, 6]).\n\tsize mismatch for encoder.conv1s.5.bias: copying a param with shape torch.Size([256]) from checkpoint, the shape in current model is torch.Size([150]).\n\tsize mismatch for encoder.conv1s.6.weight: copying a param with shape torch.Size([256, 513, 7]) from checkpoint, the shape in current model is torch.Size([150, 513, 7]).\n\tsize mismatch for encoder.conv1s.6.bias: copying a param with shape torch.Size([256]) from checkpoint, the shape in current model is torch.Size([150]).\n\tsize mismatch for encoder.conv2.weight: copying a param with shape torch.Size([256, 2305, 1]) from checkpoint, the shape in current model is torch.Size([150, 1563, 1]).\n\tsize mismatch for encoder.conv2.bias: copying a param with shape torch.Size([256]) from checkpoint, the shape in current model is torch.Size([150]).\n\tsize mismatch for encoder.conv3.weight: copying a param with shape torch.Size([256, 256, 5]) from checkpoint, the shape in current model is torch.Size([150, 150, 5]).\n\tsize mismatch for encoder.conv3.bias: copying a param with shape torch.Size([256]) from checkpoint, the shape in current model is torch.Size([150]).\n\tsize mismatch for encoder.conv4.weight: copying a param with shape torch.Size([256, 256, 5]) from checkpoint, the shape in current model is torch.Size([150, 150, 5]).\n\tsize mismatch for encoder.conv4.bias: copying a param with shape torch.Size([256]) from checkpoint, the shape in current model is torch.Size([150]).\n\tsize mismatch for encoder.conv5.weight: copying a param with shape torch.Size([256, 256, 5]) from checkpoint, the shape in current model is torch.Size([150, 150, 5]).\n\tsize mismatch for encoder.conv5.bias: copying a param with shape torch.Size([256]) from checkpoint, the shape in current model is torch.Size([150]).\n\tsize mismatch for encoder.conv6.weight: copying a param with shape torch.Size([256, 256, 5]) from checkpoint, the shape in current model is torch.Size([150, 150, 5]).\n\tsize mismatch for encoder.conv6.bias: copying a param with shape torch.Size([256]) from checkpoint, the shape in current model is torch.Size([150]).\n\tsize mismatch for encoder.conv7.weight: copying a param with shape torch.Size([256, 256, 5]) from checkpoint, the shape in current model is torch.Size([150, 150, 5]).\n\tsize mismatch for encoder.conv7.bias: copying a param with shape torch.Size([256]) from checkpoint, the shape in current model is torch.Size([150]).\n\tsize mismatch for encoder.conv8.weight: copying a param with shape torch.Size([256, 256, 5]) from checkpoint, the shape in current model is torch.Size([150, 150, 5]).\n\tsize mismatch for encoder.conv8.bias: copying a param with shape torch.Size([256]) from checkpoint, the shape in current model is torch.Size([150]).\n\tsize mismatch for encoder.dense1.weight: copying a param with shape torch.Size([256, 256]) from checkpoint, the shape in current model is torch.Size([150, 150]).\n\tsize mismatch for encoder.dense1.bias: copying a param with shape torch.Size([256]) from checkpoint, the shape in current model is torch.Size([150]).\n\tsize mismatch for encoder.dense2.weight: copying a param with shape torch.Size([256, 256]) from checkpoint, the shape in current model is torch.Size([150, 150]).\n\tsize mismatch for encoder.dense2.bias: copying a param with shape torch.Size([256]) from checkpoint, the shape in current model is torch.Size([150]).\n\tsize mismatch for encoder.dense3.weight: copying a param with shape torch.Size([256, 256]) from checkpoint, the shape in current model is torch.Size([150, 150]).\n\tsize mismatch for encoder.dense3.bias: copying a param with shape torch.Size([256]) from checkpoint, the shape in current model is torch.Size([150]).\n\tsize mismatch for encoder.dense4.weight: copying a param with shape torch.Size([256, 256]) from checkpoint, the shape in current model is torch.Size([150, 150]).\n\tsize mismatch for encoder.dense4.bias: copying a param with shape torch.Size([256]) from checkpoint, the shape in current model is torch.Size([150]).\n\tsize mismatch for encoder.RNN.weight_ih_l0: copying a param with shape torch.Size([384, 256]) from checkpoint, the shape in current model is torch.Size([384, 150]).\n\tsize mismatch for encoder.RNN.weight_ih_l0_reverse: copying a param with shape torch.Size([384, 256]) from checkpoint, the shape in current model is torch.Size([384, 150]).\n\tsize mismatch for encoder.linear0.weight: copying a param with shape torch.Size([256, 512]) from checkpoint, the shape in current model is torch.Size([150, 406]).\n\tsize mismatch for encoder.linear0.bias: copying a param with shape torch.Size([256]) from checkpoint, the shape in current model is torch.Size([150]).\n\tsize mismatch for encoder.linear1.weight: copying a param with shape torch.Size([256, 512]) from checkpoint, the shape in current model is torch.Size([150, 406]).\n\tsize mismatch for encoder.linear1.bias: copying a param with shape torch.Size([256]) from checkpoint, the shape in current model is torch.Size([150]).\n\tsize mismatch for decoder.conv1.weight: copying a param with shape torch.Size([512, 256, 3]) from checkpoint, the shape in current model is torch.Size([300, 150, 3]).\n\tsize mismatch for decoder.conv1.bias: copying a param with shape torch.Size([512]) from checkpoint, the shape in current model is torch.Size([300]).\n\tsize mismatch for decoder.conv2.weight: copying a param with shape torch.Size([256, 256, 3]) from checkpoint, the shape in current model is torch.Size([150, 150, 3]).\n\tsize mismatch for decoder.conv2.bias: copying a param with shape torch.Size([256]) from checkpoint, the shape in current model is torch.Size([150]).\n\tsize mismatch for decoder.conv3.weight: copying a param with shape torch.Size([512, 256, 3]) from checkpoint, the shape in current model is torch.Size([300, 150, 3]).\n\tsize mismatch for decoder.conv3.bias: copying a param with shape torch.Size([512]) from checkpoint, the shape in current model is torch.Size([300]).\n\tsize mismatch for decoder.conv4.weight: copying a param with shape torch.Size([256, 256, 3]) from checkpoint, the shape in current model is torch.Size([150, 150, 3]).\n\tsize mismatch for decoder.conv4.bias: copying a param with shape torch.Size([256]) from checkpoint, the shape in current model is torch.Size([150]).\n\tsize mismatch for decoder.conv5.weight: copying a param with shape torch.Size([512, 256, 3]) from checkpoint, the shape in current model is torch.Size([300, 150, 3]).\n\tsize mismatch for decoder.conv5.bias: copying a param with shape torch.Size([512]) from checkpoint, the shape in current model is torch.Size([300]).\n\tsize mismatch for decoder.conv6.weight: copying a param with shape torch.Size([256, 256, 3]) from checkpoint, the shape in current model is torch.Size([150, 150, 3]).\n\tsize mismatch for decoder.conv6.bias: copying a param with shape torch.Size([256]) from checkpoint, the shape in current model is torch.Size([150]).\n\tsize mismatch for decoder.dense1.weight: copying a param with shape torch.Size([256, 256]) from checkpoint, the shape in current model is torch.Size([150, 150]).\n\tsize mismatch for decoder.dense1.bias: copying a param with shape torch.Size([256]) from checkpoint, the shape in current model is torch.Size([150]).\n\tsize mismatch for decoder.dense2.weight: copying a param with shape torch.Size([256, 256]) from checkpoint, the shape in current model is torch.Size([150, 150]).\n\tsize mismatch for decoder.dense2.bias: copying a param with shape torch.Size([256]) from checkpoint, the shape in current model is torch.Size([150]).\n\tsize mismatch for decoder.dense3.weight: copying a param with shape torch.Size([256, 256]) from checkpoint, the shape in current model is torch.Size([150, 150]).\n\tsize mismatch for decoder.dense3.bias: copying a param with shape torch.Size([256]) from checkpoint, the shape in current model is torch.Size([150]).\n\tsize mismatch for decoder.dense4.weight: copying a param with shape torch.Size([256, 256]) from checkpoint, the shape in current model is torch.Size([150, 150]).\n\tsize mismatch for decoder.dense4.bias: copying a param with shape torch.Size([256]) from checkpoint, the shape in current model is torch.Size([150]).\n\tsize mismatch for decoder.RNN.weight_ih_l0: copying a param with shape torch.Size([384, 256]) from checkpoint, the shape in current model is torch.Size([225, 150]).\n\tsize mismatch for decoder.RNN.weight_hh_l0: copying a param with shape torch.Size([384, 128]) from checkpoint, the shape in current model is torch.Size([225, 75]).\n\tsize mismatch for decoder.RNN.bias_ih_l0: copying a param with shape torch.Size([384]) from checkpoint, the shape in current model is torch.Size([225]).\n\tsize mismatch for decoder.RNN.bias_hh_l0: copying a param with shape torch.Size([384]) from checkpoint, the shape in current model is torch.Size([225]).\n\tsize mismatch for decoder.RNN.weight_ih_l0_reverse: copying a param with shape torch.Size([384, 256]) from checkpoint, the shape in current model is torch.Size([225, 150]).\n\tsize mismatch for decoder.RNN.weight_hh_l0_reverse: copying a param with shape torch.Size([384, 128]) from checkpoint, the shape in current model is torch.Size([225, 75]).\n\tsize mismatch for decoder.RNN.bias_ih_l0_reverse: copying a param with shape torch.Size([384]) from checkpoint, the shape in current model is torch.Size([225]).\n\tsize mismatch for decoder.RNN.bias_hh_l0_reverse: copying a param with shape torch.Size([384]) from checkpoint, the shape in current model is torch.Size([225]).\n\tsize mismatch for decoder.dense5.weight: copying a param with shape torch.Size([256, 768]) from checkpoint, the shape in current model is torch.Size([150, 450]).\n\tsize mismatch for decoder.dense5.bias: copying a param with shape torch.Size([256]) from checkpoint, the shape in current model is torch.Size([150]).\n\tsize mismatch for decoder.linear.weight: copying a param with shape torch.Size([513, 256]) from checkpoint, the shape in current model is torch.Size([513, 150]).\n\tsize mismatch for decoder.emb1.weight: copying a param with shape torch.Size([2, 256]) from checkpoint, the shape in current model is torch.Size([2, 150]).\n\tsize mismatch for decoder.emb2.weight: copying a param with shape torch.Size([2, 256]) from checkpoint, the shape in current model is torch.Size([2, 150]).\n\tsize mismatch for decoder.emb3.weight: copying a param with shape torch.Size([2, 256]) from checkpoint, the shape in current model is torch.Size([2, 150]).\n\tsize mismatch for decoder.emb4.weight: copying a param with shape torch.Size([2, 256]) from checkpoint, the shape in current model is torch.Size([2, 150]).\n\tsize mismatch for decoder.emb5.weight: copying a param with shape torch.Size([2, 256]) from checkpoint, the shape in current model is torch.Size([2, 150]).",
     "output_type": "error",
     "traceback": [
      "\u001b[0;31m---------------------------------------------------------------------------\u001b[0m",
      "\u001b[0;31mRuntimeError\u001b[0m                              Traceback (most recent call last)",
      "\u001b[0;32m<ipython-input-2-b02fc9cf6820>\u001b[0m in \u001b[0;36m<module>\u001b[0;34m\u001b[0m\n\u001b[1;32m     15\u001b[0m \u001b[0;34m\u001b[0m\u001b[0m\n\u001b[1;32m     16\u001b[0m \u001b[0mautoencoder\u001b[0m \u001b[0;34m=\u001b[0m \u001b[0mcc\u001b[0m\u001b[0;34m(\u001b[0m\u001b[0mCVAE\u001b[0m\u001b[0;34m(\u001b[0m\u001b[0;34m)\u001b[0m\u001b[0;34m)\u001b[0m\u001b[0;34m\u001b[0m\u001b[0;34m\u001b[0m\u001b[0m\n\u001b[0;32m---> 17\u001b[0;31m \u001b[0mautoencoder\u001b[0m\u001b[0;34m.\u001b[0m\u001b[0mload_state_dict\u001b[0m\u001b[0;34m(\u001b[0m\u001b[0mtorch\u001b[0m\u001b[0;34m.\u001b[0m\u001b[0mload\u001b[0m\u001b[0;34m(\u001b[0m\u001b[0;34m'trained_model/epoch_5_loss_0.0063_autoencoder_.pt'\u001b[0m\u001b[0;34m)\u001b[0m\u001b[0;34m[\u001b[0m\u001b[0;34m'state_dict'\u001b[0m\u001b[0;34m]\u001b[0m\u001b[0;34m)\u001b[0m\u001b[0;34m\u001b[0m\u001b[0;34m\u001b[0m\u001b[0m\n\u001b[0m\u001b[1;32m     18\u001b[0m \u001b[0;34m\u001b[0m\u001b[0m\n\u001b[1;32m     19\u001b[0m testing = [{'P_s':2, 'P_t':1, '_id':338},\n",
      "\u001b[0;32m/usr/local/lib/python3.6/dist-packages/torch/nn/modules/module.py\u001b[0m in \u001b[0;36mload_state_dict\u001b[0;34m(self, state_dict, strict)\u001b[0m\n\u001b[1;32m    828\u001b[0m         \u001b[0;32mif\u001b[0m \u001b[0mlen\u001b[0m\u001b[0;34m(\u001b[0m\u001b[0merror_msgs\u001b[0m\u001b[0;34m)\u001b[0m \u001b[0;34m>\u001b[0m \u001b[0;36m0\u001b[0m\u001b[0;34m:\u001b[0m\u001b[0;34m\u001b[0m\u001b[0;34m\u001b[0m\u001b[0m\n\u001b[1;32m    829\u001b[0m             raise RuntimeError('Error(s) in loading state_dict for {}:\\n\\t{}'.format(\n\u001b[0;32m--> 830\u001b[0;31m                                self.__class__.__name__, \"\\n\\t\".join(error_msgs)))\n\u001b[0m\u001b[1;32m    831\u001b[0m         \u001b[0;32mreturn\u001b[0m \u001b[0m_IncompatibleKeys\u001b[0m\u001b[0;34m(\u001b[0m\u001b[0mmissing_keys\u001b[0m\u001b[0;34m,\u001b[0m \u001b[0munexpected_keys\u001b[0m\u001b[0;34m)\u001b[0m\u001b[0;34m\u001b[0m\u001b[0;34m\u001b[0m\u001b[0m\n\u001b[1;32m    832\u001b[0m \u001b[0;34m\u001b[0m\u001b[0m\n",
      "\u001b[0;31mRuntimeError\u001b[0m: Error(s) in loading state_dict for CVAE:\n\tsize mismatch for encoder.conv1s.0.weight: copying a param with shape torch.Size([256, 513, 1]) from checkpoint, the shape in current model is torch.Size([150, 513, 1]).\n\tsize mismatch for encoder.conv1s.0.bias: copying a param with shape torch.Size([256]) from checkpoint, the shape in current model is torch.Size([150]).\n\tsize mismatch for encoder.conv1s.1.weight: copying a param with shape torch.Size([256, 513, 2]) from checkpoint, the shape in current model is torch.Size([150, 513, 2]).\n\tsize mismatch for encoder.conv1s.1.bias: copying a param with shape torch.Size([256]) from checkpoint, the shape in current model is torch.Size([150]).\n\tsize mismatch for encoder.conv1s.2.weight: copying a param with shape torch.Size([256, 513, 3]) from checkpoint, the shape in current model is torch.Size([150, 513, 3]).\n\tsize mismatch for encoder.conv1s.2.bias: copying a param with shape torch.Size([256]) from checkpoint, the shape in current model is torch.Size([150]).\n\tsize mismatch for encoder.conv1s.3.weight: copying a param with shape torch.Size([256, 513, 4]) from checkpoint, the shape in current model is torch.Size([150, 513, 4]).\n\tsize mismatch for encoder.conv1s.3.bias: copying a param with shape torch.Size([256]) from checkpoint, the shape in current model is torch.Size([150]).\n\tsize mismatch for encoder.conv1s.4.weight: copying a param with shape torch.Size([256, 513, 5]) from checkpoint, the shape in current model is torch.Size([150, 513, 5]).\n\tsize mismatch for encoder.conv1s.4.bias: copying a param with shape torch.Size([256]) from checkpoint, the shape in current model is torch.Size([150]).\n\tsize mismatch for encoder.conv1s.5.weight: copying a param with shape torch.Size([256, 513, 6]) from checkpoint, the shape in current model is torch.Size([150, 513, 6]).\n\tsize mismatch for encoder.conv1s.5.bias: copying a param with shape torch.Size([256]) from checkpoint, the shape in current model is torch.Size([150]).\n\tsize mismatch for encoder.conv1s.6.weight: copying a param with shape torch.Size([256, 513, 7]) from checkpoint, the shape in current model is torch.Size([150, 513, 7]).\n\tsize mismatch for encoder.conv1s.6.bias: copying a param with shape torch.Size([256]) from checkpoint, the shape in current model is torch.Size([150]).\n\tsize mismatch for encoder.conv2.weight: copying a param with shape torch.Size([256, 2305, 1]) from checkpoint, the shape in current model is torch.Size([150, 1563, 1]).\n\tsize mismatch for encoder.conv2.bias: copying a param with shape torch.Size([256]) from checkpoint, the shape in current model is torch.Size([150]).\n\tsize mismatch for encoder.conv3.weight: copying a param with shape torch.Size([256, 256, 5]) from checkpoint, the shape in current model is torch.Size([150, 150, 5]).\n\tsize mismatch for encoder.conv3.bias: copying a param with shape torch.Size([256]) from checkpoint, the shape in current model is torch.Size([150]).\n\tsize mismatch for encoder.conv4.weight: copying a param with shape torch.Size([256, 256, 5]) from checkpoint, the shape in current model is torch.Size([150, 150, 5]).\n\tsize mismatch for encoder.conv4.bias: copying a param with shape torch.Size([256]) from checkpoint, the shape in current model is torch.Size([150]).\n\tsize mismatch for encoder.conv5.weight: copying a param with shape torch.Size([256, 256, 5]) from checkpoint, the shape in current model is torch.Size([150, 150, 5]).\n\tsize mismatch for encoder.conv5.bias: copying a param with shape torch.Size([256]) from checkpoint, the shape in current model is torch.Size([150]).\n\tsize mismatch for encoder.conv6.weight: copying a param with shape torch.Size([256, 256, 5]) from checkpoint, the shape in current model is torch.Size([150, 150, 5]).\n\tsize mismatch for encoder.conv6.bias: copying a param with shape torch.Size([256]) from checkpoint, the shape in current model is torch.Size([150]).\n\tsize mismatch for encoder.conv7.weight: copying a param with shape torch.Size([256, 256, 5]) from checkpoint, the shape in current model is torch.Size([150, 150, 5]).\n\tsize mismatch for encoder.conv7.bias: copying a param with shape torch.Size([256]) from checkpoint, the shape in current model is torch.Size([150]).\n\tsize mismatch for encoder.conv8.weight: copying a param with shape torch.Size([256, 256, 5]) from checkpoint, the shape in current model is torch.Size([150, 150, 5]).\n\tsize mismatch for encoder.conv8.bias: copying a param with shape torch.Size([256]) from checkpoint, the shape in current model is torch.Size([150]).\n\tsize mismatch for encoder.dense1.weight: copying a param with shape torch.Size([256, 256]) from checkpoint, the shape in current model is torch.Size([150, 150]).\n\tsize mismatch for encoder.dense1.bias: copying a param with shape torch.Size([256]) from checkpoint, the shape in current model is torch.Size([150]).\n\tsize mismatch for encoder.dense2.weight: copying a param with shape torch.Size([256, 256]) from checkpoint, the shape in current model is torch.Size([150, 150]).\n\tsize mismatch for encoder.dense2.bias: copying a param with shape torch.Size([256]) from checkpoint, the shape in current model is torch.Size([150]).\n\tsize mismatch for encoder.dense3.weight: copying a param with shape torch.Size([256, 256]) from checkpoint, the shape in current model is torch.Size([150, 150]).\n\tsize mismatch for encoder.dense3.bias: copying a param with shape torch.Size([256]) from checkpoint, the shape in current model is torch.Size([150]).\n\tsize mismatch for encoder.dense4.weight: copying a param with shape torch.Size([256, 256]) from checkpoint, the shape in current model is torch.Size([150, 150]).\n\tsize mismatch for encoder.dense4.bias: copying a param with shape torch.Size([256]) from checkpoint, the shape in current model is torch.Size([150]).\n\tsize mismatch for encoder.RNN.weight_ih_l0: copying a param with shape torch.Size([384, 256]) from checkpoint, the shape in current model is torch.Size([384, 150]).\n\tsize mismatch for encoder.RNN.weight_ih_l0_reverse: copying a param with shape torch.Size([384, 256]) from checkpoint, the shape in current model is torch.Size([384, 150]).\n\tsize mismatch for encoder.linear0.weight: copying a param with shape torch.Size([256, 512]) from checkpoint, the shape in current model is torch.Size([150, 406]).\n\tsize mismatch for encoder.linear0.bias: copying a param with shape torch.Size([256]) from checkpoint, the shape in current model is torch.Size([150]).\n\tsize mismatch for encoder.linear1.weight: copying a param with shape torch.Size([256, 512]) from checkpoint, the shape in current model is torch.Size([150, 406]).\n\tsize mismatch for encoder.linear1.bias: copying a param with shape torch.Size([256]) from checkpoint, the shape in current model is torch.Size([150]).\n\tsize mismatch for decoder.conv1.weight: copying a param with shape torch.Size([512, 256, 3]) from checkpoint, the shape in current model is torch.Size([300, 150, 3]).\n\tsize mismatch for decoder.conv1.bias: copying a param with shape torch.Size([512]) from checkpoint, the shape in current model is torch.Size([300]).\n\tsize mismatch for decoder.conv2.weight: copying a param with shape torch.Size([256, 256, 3]) from checkpoint, the shape in current model is torch.Size([150, 150, 3]).\n\tsize mismatch for decoder.conv2.bias: copying a param with shape torch.Size([256]) from checkpoint, the shape in current model is torch.Size([150]).\n\tsize mismatch for decoder.conv3.weight: copying a param with shape torch.Size([512, 256, 3]) from checkpoint, the shape in current model is torch.Size([300, 150, 3]).\n\tsize mismatch for decoder.conv3.bias: copying a param with shape torch.Size([512]) from checkpoint, the shape in current model is torch.Size([300]).\n\tsize mismatch for decoder.conv4.weight: copying a param with shape torch.Size([256, 256, 3]) from checkpoint, the shape in current model is torch.Size([150, 150, 3]).\n\tsize mismatch for decoder.conv4.bias: copying a param with shape torch.Size([256]) from checkpoint, the shape in current model is torch.Size([150]).\n\tsize mismatch for decoder.conv5.weight: copying a param with shape torch.Size([512, 256, 3]) from checkpoint, the shape in current model is torch.Size([300, 150, 3]).\n\tsize mismatch for decoder.conv5.bias: copying a param with shape torch.Size([512]) from checkpoint, the shape in current model is torch.Size([300]).\n\tsize mismatch for decoder.conv6.weight: copying a param with shape torch.Size([256, 256, 3]) from checkpoint, the shape in current model is torch.Size([150, 150, 3]).\n\tsize mismatch for decoder.conv6.bias: copying a param with shape torch.Size([256]) from checkpoint, the shape in current model is torch.Size([150]).\n\tsize mismatch for decoder.dense1.weight: copying a param with shape torch.Size([256, 256]) from checkpoint, the shape in current model is torch.Size([150, 150]).\n\tsize mismatch for decoder.dense1.bias: copying a param with shape torch.Size([256]) from checkpoint, the shape in current model is torch.Size([150]).\n\tsize mismatch for decoder.dense2.weight: copying a param with shape torch.Size([256, 256]) from checkpoint, the shape in current model is torch.Size([150, 150]).\n\tsize mismatch for decoder.dense2.bias: copying a param with shape torch.Size([256]) from checkpoint, the shape in current model is torch.Size([150]).\n\tsize mismatch for decoder.dense3.weight: copying a param with shape torch.Size([256, 256]) from checkpoint, the shape in current model is torch.Size([150, 150]).\n\tsize mismatch for decoder.dense3.bias: copying a param with shape torch.Size([256]) from checkpoint, the shape in current model is torch.Size([150]).\n\tsize mismatch for decoder.dense4.weight: copying a param with shape torch.Size([256, 256]) from checkpoint, the shape in current model is torch.Size([150, 150]).\n\tsize mismatch for decoder.dense4.bias: copying a param with shape torch.Size([256]) from checkpoint, the shape in current model is torch.Size([150]).\n\tsize mismatch for decoder.RNN.weight_ih_l0: copying a param with shape torch.Size([384, 256]) from checkpoint, the shape in current model is torch.Size([225, 150]).\n\tsize mismatch for decoder.RNN.weight_hh_l0: copying a param with shape torch.Size([384, 128]) from checkpoint, the shape in current model is torch.Size([225, 75]).\n\tsize mismatch for decoder.RNN.bias_ih_l0: copying a param with shape torch.Size([384]) from checkpoint, the shape in current model is torch.Size([225]).\n\tsize mismatch for decoder.RNN.bias_hh_l0: copying a param with shape torch.Size([384]) from checkpoint, the shape in current model is torch.Size([225]).\n\tsize mismatch for decoder.RNN.weight_ih_l0_reverse: copying a param with shape torch.Size([384, 256]) from checkpoint, the shape in current model is torch.Size([225, 150]).\n\tsize mismatch for decoder.RNN.weight_hh_l0_reverse: copying a param with shape torch.Size([384, 128]) from checkpoint, the shape in current model is torch.Size([225, 75]).\n\tsize mismatch for decoder.RNN.bias_ih_l0_reverse: copying a param with shape torch.Size([384]) from checkpoint, the shape in current model is torch.Size([225]).\n\tsize mismatch for decoder.RNN.bias_hh_l0_reverse: copying a param with shape torch.Size([384]) from checkpoint, the shape in current model is torch.Size([225]).\n\tsize mismatch for decoder.dense5.weight: copying a param with shape torch.Size([256, 768]) from checkpoint, the shape in current model is torch.Size([150, 450]).\n\tsize mismatch for decoder.dense5.bias: copying a param with shape torch.Size([256]) from checkpoint, the shape in current model is torch.Size([150]).\n\tsize mismatch for decoder.linear.weight: copying a param with shape torch.Size([513, 256]) from checkpoint, the shape in current model is torch.Size([513, 150]).\n\tsize mismatch for decoder.emb1.weight: copying a param with shape torch.Size([2, 256]) from checkpoint, the shape in current model is torch.Size([2, 150]).\n\tsize mismatch for decoder.emb2.weight: copying a param with shape torch.Size([2, 256]) from checkpoint, the shape in current model is torch.Size([2, 150]).\n\tsize mismatch for decoder.emb3.weight: copying a param with shape torch.Size([2, 256]) from checkpoint, the shape in current model is torch.Size([2, 150]).\n\tsize mismatch for decoder.emb4.weight: copying a param with shape torch.Size([2, 256]) from checkpoint, the shape in current model is torch.Size([2, 150]).\n\tsize mismatch for decoder.emb5.weight: copying a param with shape torch.Size([2, 256]) from checkpoint, the shape in current model is torch.Size([2, 150])."
     ]
    }
   ],
   "source": [
    "def result(P_s, P_t, _id):\n",
    "    global spectrogram, output\n",
    "    _, spectrogram = get_spectrograms(f'/media/D/DLHLP/hw2/Corpus/wav48/p{P_s}/p{P_s}_{_id}.wav')\n",
    "\n",
    "    _input = np.expand_dims(spectrogram, axis=0)\n",
    "    _input = torch.tensor(_input).permute(0,2,1).cuda()\n",
    "    _person = torch.tensor([P_t-1]).cuda()\n",
    "\n",
    "    _, output = autoencoder(_input, _person)\n",
    "\n",
    "    output = output.squeeze(axis=0).transpose(1,0).cpu().detach().numpy()\n",
    "\n",
    "    wav_data = spectrogram2wav(output)\n",
    "    write(f'result/{P_s}_{P_t}_{_id}.wav', 16000, data=wav_data)\n",
    "\n",
    "autoencoder = cc(CVAE())\n",
    "autoencoder.load_state_dict(torch.load('trained_model/epoch_5_loss_0.0063_autoencoder_.pt')['state_dict'])\n",
    "\n",
    "testing = [{'P_s':2, 'P_t':1, '_id':338},\n",
    "           {'P_s':2, 'P_t':2, '_id':338},\n",
    "           {'P_s':1, 'P_t':2, '_id':334},\n",
    "           {'P_s':1, 'P_t':1, '_id':334}]\n",
    "\n",
    "for t in testing:\n",
    "    result(t['P_s'], t['P_t'], t['_id'])\n",
    "    "
   ]
  },
  {
   "cell_type": "code",
   "execution_count": null,
   "metadata": {},
   "outputs": [],
   "source": []
  },
  {
   "cell_type": "code",
   "execution_count": null,
   "metadata": {},
   "outputs": [],
   "source": [
    "spectrogram.shape, output.shape"
   ]
  },
  {
   "cell_type": "code",
   "execution_count": null,
   "metadata": {},
   "outputs": [],
   "source": [
    "\n",
    "import matplotlib.pyplot as plt\n",
    "%matplotlib inline\n",
    "    \n",
    "plt.figure(figsize=(16,9))\n",
    "plt.title(f\"person: 0 \")\n",
    "plt.imshow(spectrogram, cmap=\"hot\")\n",
    "plt.show()\n",
    "\n",
    "plt.figure(figsize=(16,9))\n",
    "plt.title(f\"person: 1 \")\n",
    "plt.imshow(output, cmap=\"hot\")\n",
    "plt.show()\n"
   ]
  },
  {
   "cell_type": "code",
   "execution_count": null,
   "metadata": {},
   "outputs": [],
   "source": []
  },
  {
   "cell_type": "code",
   "execution_count": null,
   "metadata": {},
   "outputs": [],
   "source": []
  },
  {
   "cell_type": "markdown",
   "metadata": {},
   "source": [
    "# Interpolate"
   ]
  },
  {
   "cell_type": "code",
   "execution_count": null,
   "metadata": {},
   "outputs": [],
   "source": [
    "import numpy as np\n",
    "\n",
    "from preprocess.tacotron.norm_utils import spectrogram2wav, get_spectrograms\n",
    "from scipy.io.wavfile import write\n"
   ]
  },
  {
   "cell_type": "code",
   "execution_count": null,
   "metadata": {},
   "outputs": [],
   "source": [
    "def interpolate(P_s, P_t, _id):\n",
    "    _, spectrogram = get_spectrograms(f'/media/D/DLHLP/hw2/Corpus/wav48/p{P_s}/p{P_s}_{_id}.wav')\n",
    "\n",
    "    _input = np.expand_dims(spectrogram, axis=0)\n",
    "    _input = torch.tensor(_input).permute(0,2,1).cuda()\n",
    "\n",
    "    p1 = torch.tensor([0]).cuda()\n",
    "    p2 = torch.tensor([1]).cuda()\n",
    "\n",
    "    output = autoencoder.interpolate(_input, p1, p2)\n",
    "\n",
    "    output = output.squeeze(axis=0).transpose(1,0).cpu().detach().numpy()\n",
    "\n",
    "    wav_data = spectrogram2wav(output)\n",
    "    write(f'result/{P_s}_{P_t}_{_id}_interpolate.wav', 16000, data=wav_data)\n",
    "    \n",
    "testing = [{'P_s':2, 'P_t':1, '_id':338},\n",
    "           {'P_s':1, 'P_t':2, '_id':334}]\n",
    "for t in testing:\n",
    "    interpolate(t['P_s'], t['P_t'], t['_id'])\n"
   ]
  },
  {
   "cell_type": "code",
   "execution_count": null,
   "metadata": {},
   "outputs": [],
   "source": []
  },
  {
   "cell_type": "code",
   "execution_count": null,
   "metadata": {},
   "outputs": [],
   "source": []
  },
  {
   "cell_type": "code",
   "execution_count": null,
   "metadata": {},
   "outputs": [],
   "source": []
  },
  {
   "cell_type": "code",
   "execution_count": null,
   "metadata": {},
   "outputs": [],
   "source": []
  },
  {
   "cell_type": "code",
   "execution_count": null,
   "metadata": {},
   "outputs": [],
   "source": []
  },
  {
   "cell_type": "code",
   "execution_count": null,
   "metadata": {},
   "outputs": [],
   "source": []
  },
  {
   "cell_type": "code",
   "execution_count": null,
   "metadata": {},
   "outputs": [],
   "source": []
  }
 ],
 "metadata": {
  "kernelspec": {
   "display_name": "Python 3",
   "language": "python",
   "name": "python3"
  },
  "language_info": {
   "codemirror_mode": {
    "name": "ipython",
    "version": 3
   },
   "file_extension": ".py",
   "mimetype": "text/x-python",
   "name": "python",
   "nbconvert_exporter": "python",
   "pygments_lexer": "ipython3",
   "version": "3.6.10"
  }
 },
 "nbformat": 4,
 "nbformat_minor": 2
}
